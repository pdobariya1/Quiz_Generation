{
 "cells": [
  {
   "cell_type": "code",
   "execution_count": 1,
   "metadata": {},
   "outputs": [
    {
     "name": "stderr",
     "output_type": "stream",
     "text": [
      "/home/petpooja-739/Learning/Quiz_Generation/.venv/lib/python3.10/site-packages/tqdm/auto.py:21: TqdmWarning: IProgress not found. Please update jupyter and ipywidgets. See https://ipywidgets.readthedocs.io/en/stable/user_install.html\n",
      "  from .autonotebook import tqdm as notebook_tqdm\n"
     ]
    }
   ],
   "source": [
    "import re\n",
    "import os\n",
    "import json\n",
    "import traceback\n",
    "import pandas as pd\n",
    "from dotenv import load_dotenv\n",
    "\n",
    "from langchain.chains.llm import LLMChain\n",
    "from langchain.prompts import PromptTemplate\n",
    "from langchain_google_genai import ChatGoogleGenerativeAI"
   ]
  },
  {
   "cell_type": "code",
   "execution_count": 3,
   "metadata": {},
   "outputs": [],
   "source": [
    "from google.oauth2 import service_account\n",
    "credential_path = \"/home/petpooja-739/Learning/Quiz_Generation/spheric-shield-442613-b6-f9df1a08a88c.json\"\n",
    "credential = service_account.Credentials.from_service_account_file(credential_path)"
   ]
  },
  {
   "cell_type": "code",
   "execution_count": 4,
   "metadata": {},
   "outputs": [],
   "source": [
    "llm = ChatGoogleGenerativeAI(\n",
    "    model=\"gemini-1.5-flash-001\",\n",
    "    credentials=credential,\n",
    "    temperature=0,\n",
    "    max_tokens=None\n",
    ")"
   ]
  },
  {
   "cell_type": "code",
   "execution_count": 5,
   "metadata": {},
   "outputs": [],
   "source": [
    "RESPONSE_JSON = {\n",
    "    \"1\": {\n",
    "        \"mcq\": \"multiple choice question\",\n",
    "        \"options\": {\n",
    "            \"a\": \"choice here\",\n",
    "            \"b\": \"choice here\",\n",
    "            \"c\": \"choice here\",\n",
    "            \"d\": \"choice here\",\n",
    "        },\n",
    "        \"correct\": \"correct answer\"\n",
    "    },\n",
    "    \"2\": {\n",
    "        \"mcq\": \"multiple choice question\",\n",
    "        \"options\": {\n",
    "            \"a\": \"choice here\",\n",
    "            \"b\": \"choice here\",\n",
    "            \"c\": \"choice here\",\n",
    "            \"d\": \"choice here\",\n",
    "        },\n",
    "        \"correct\": \"correct answer\"\n",
    "    },\n",
    "    \"3\": {\n",
    "        \"mcq\": \"multiple choice question\",\n",
    "        \"options\": {\n",
    "            \"a\": \"choice here\",\n",
    "            \"b\": \"choice here\",\n",
    "            \"c\": \"choice here\",\n",
    "            \"d\": \"choice here\",\n",
    "        },\n",
    "        \"correct\": \"correct answer\"\n",
    "    },\n",
    "}"
   ]
  },
  {
   "cell_type": "code",
   "execution_count": 6,
   "metadata": {},
   "outputs": [],
   "source": [
    "TEMPLATE = \"\"\"\n",
    "Text:{text}\n",
    "You are an expert MCQ maker. Given the above text, it is your job to \\\n",
    "create a quiz  of {number} multiple choice questions for {subject} students in {tone} tone. \n",
    "Make sure the questions are not repeated and check all the questions to be conforming the text as well.\n",
    "Make sure to format your response like  RESPONSE_JSON below  and use it as a guide. \\\n",
    "Ensure to make {number} MCQs\n",
    "### RESPONSE_JSON\n",
    "{response_json}\n",
    "\n",
    "\"\"\""
   ]
  },
  {
   "cell_type": "code",
   "execution_count": 7,
   "metadata": {},
   "outputs": [],
   "source": [
    "TEMPLATE2 = \"\"\"\n",
    "You are an expert english grammarian and writer. Given a Multiple Choice Quiz for {subject} students.\\\n",
    "You need to evaluate the complexity of the question and give a complete analysis of the quiz. Only use at max 50 words for complexity analysis. \n",
    "if the quiz is not at per with the cognitive and analytical abilities of the students,\\\n",
    "update the quiz questions which needs to be changed and change the tone such that it perfectly fits the student abilities\n",
    "Quiz_MCQs:\n",
    "{quiz}\n",
    "\n",
    "Check from an expert English Writer of the above quiz:\n",
    "\"\"\""
   ]
  },
  {
   "cell_type": "code",
   "execution_count": 8,
   "metadata": {},
   "outputs": [],
   "source": [
    "quiz_generation_prompt = PromptTemplate(\n",
    "    input_variables=[\"text\", \"number\", \"subject\", \"tone\", \"response_json\"],\n",
    "    template=TEMPLATE,\n",
    ")"
   ]
  },
  {
   "cell_type": "code",
   "execution_count": 9,
   "metadata": {},
   "outputs": [
    {
     "name": "stderr",
     "output_type": "stream",
     "text": [
      "/tmp/ipykernel_51333/4109068563.py:1: LangChainDeprecationWarning: The class `LLMChain` was deprecated in LangChain 0.1.17 and will be removed in 1.0. Use :meth:`~RunnableSequence, e.g., `prompt | llm`` instead.\n",
      "  quiz_chain = LLMChain(llm=llm, prompt=quiz_generation_prompt, output_key=\"quiz\", verbose=True)\n"
     ]
    }
   ],
   "source": [
    "quiz_chain = LLMChain(llm=llm, prompt=quiz_generation_prompt, output_key=\"quiz\", verbose=True)"
   ]
  },
  {
   "cell_type": "code",
   "execution_count": 11,
   "metadata": {},
   "outputs": [],
   "source": [
    "quiz_evaluation_prompt = PromptTemplate(\n",
    "    input_variables=[\"subject\", \"quiz\"],\n",
    "    template=TEMPLATE2\n",
    ")"
   ]
  },
  {
   "cell_type": "code",
   "execution_count": 12,
   "metadata": {},
   "outputs": [],
   "source": [
    "review_chain = LLMChain(llm=llm, prompt=quiz_evaluation_prompt, output_key=\"review\", verbose=True)"
   ]
  },
  {
   "cell_type": "code",
   "execution_count": 13,
   "metadata": {},
   "outputs": [],
   "source": [
    "from langchain.chains.sequential import SequentialChain\n",
    "\n",
    "generate_evaluate_chain = SequentialChain(\n",
    "    chains=[quiz_chain, review_chain],\n",
    "    input_variables=[\"text\", \"number\", \"subject\", \"tone\", \"response_json\"],\n",
    "    output_variables=[\"quiz\", \"review\"],\n",
    "    verbose=True\n",
    ")"
   ]
  },
  {
   "cell_type": "code",
   "execution_count": 17,
   "metadata": {},
   "outputs": [
    {
     "data": {
      "text/plain": [
       "'/home/petpooja-739/Learning/Quiz_Generation/data.txt'"
      ]
     },
     "execution_count": 17,
     "metadata": {},
     "output_type": "execute_result"
    }
   ],
   "source": [
    "file_path = r\"/home/petpooja-739/Learning/Quiz_Generation/data.txt\"\n",
    "file_path"
   ]
  },
  {
   "cell_type": "code",
   "execution_count": 18,
   "metadata": {},
   "outputs": [],
   "source": [
    "with open(file_path, 'r') as file:\n",
    "    TEXT = file.read()"
   ]
  },
  {
   "cell_type": "code",
   "execution_count": 19,
   "metadata": {},
   "outputs": [
    {
     "name": "stdout",
     "output_type": "stream",
     "text": [
      "Most modern deep learning models are based on multi-layered neural networks such as \n",
      "convolutional neural networks and transformers, although they can also include propositional \n",
      "formulas or latent variables organized layer-wise in deep generative models such as the nodes in \n",
      "deep belief networks and deep Boltzmann machines.[7]\n",
      "\n",
      "Fundamentally, deep learning refers to a class of machine learning algorithms in which a hierarchy \n",
      "of layers is used to transform input data into a slightly more abstract and composite \n",
      "representation. For example, in an image recognition model, the raw input may be an image \n",
      "(represented as a tensor of pixels). The first representational layer may attempt to identify basic \n",
      "shapes such as lines and circles, the second layer may compose and encode arrangements of edges, \n",
      "the third layer may encode a nose and eyes, and the fourth layer may recognize that the image \n",
      "contains a face.\n",
      "\n",
      "Importantly, a deep learning process can learn which features to optimally place at which level on \n",
      "its own. Prior to deep learning, machine learning techniques often involved hand-crafted feature \n",
      "engineering to transform the data into a more suitable representation for a classification \n",
      "algorithm to operate on. In the deep learning approach, features are not hand-crafted and the model \n",
      "discovers useful feature representations from the data automatically. This does not eliminate the \n",
      "need for hand-tuning; for example, varying numbers of layers and layer sizes can provide different \n",
      "degrees of abstraction.[8][2]\n",
      "\n",
      "The word \"deep\" in \"deep learning\" refers to the number of layers through which the data is \n",
      "transformed. More precisely, deep learning systems have a substantial credit assignment path (CAP) \n",
      "depth. The CAP is the chain of transformations from input to output. CAPs describe potentially \n",
      "causal connections between input and output. For a feedforward neural network, the depth of the \n",
      "CAPs is that of the network and is the number of hidden layers plus one (as the output layer is \n",
      "also parameterized). For recurrent neural networks, in which a signal may propagate through a layer \n",
      "more than once, the CAP depth is potentially unlimited.[9] No universally agreed-upon threshold of \n",
      "depth divides shallow learning from deep learning, but most researchers agree that deep learning \n",
      "involves CAP depth higher than two.\n"
     ]
    }
   ],
   "source": [
    "print(TEXT)"
   ]
  },
  {
   "cell_type": "code",
   "execution_count": 20,
   "metadata": {},
   "outputs": [
    {
     "data": {
      "text/plain": [
       "2359"
      ]
     },
     "execution_count": 20,
     "metadata": {},
     "output_type": "execute_result"
    }
   ],
   "source": [
    "len(TEXT)"
   ]
  },
  {
   "cell_type": "code",
   "execution_count": 21,
   "metadata": {},
   "outputs": [],
   "source": [
    "NUMBER = 5\n",
    "SUBJECT = \"Deep Learning\"\n",
    "TONE = \"simple\""
   ]
  },
  {
   "cell_type": "code",
   "execution_count": 22,
   "metadata": {},
   "outputs": [
    {
     "name": "stdout",
     "output_type": "stream",
     "text": [
      "CPU times: user 3 μs, sys: 1e+03 ns, total: 4 μs\n",
      "Wall time: 6.68 μs\n",
      "\n",
      "\n",
      "\u001b[1m> Entering new SequentialChain chain...\u001b[0m\n",
      "\n",
      "\n",
      "\u001b[1m> Entering new LLMChain chain...\u001b[0m\n",
      "Prompt after formatting:\n",
      "\u001b[32;1m\u001b[1;3m\n",
      "Text:Most modern deep learning models are based on multi-layered neural networks such as \n",
      "convolutional neural networks and transformers, although they can also include propositional \n",
      "formulas or latent variables organized layer-wise in deep generative models such as the nodes in \n",
      "deep belief networks and deep Boltzmann machines.[7]\n",
      "\n",
      "Fundamentally, deep learning refers to a class of machine learning algorithms in which a hierarchy \n",
      "of layers is used to transform input data into a slightly more abstract and composite \n",
      "representation. For example, in an image recognition model, the raw input may be an image \n",
      "(represented as a tensor of pixels). The first representational layer may attempt to identify basic \n",
      "shapes such as lines and circles, the second layer may compose and encode arrangements of edges, \n",
      "the third layer may encode a nose and eyes, and the fourth layer may recognize that the image \n",
      "contains a face.\n",
      "\n",
      "Importantly, a deep learning process can learn which features to optimally place at which level on \n",
      "its own. Prior to deep learning, machine learning techniques often involved hand-crafted feature \n",
      "engineering to transform the data into a more suitable representation for a classification \n",
      "algorithm to operate on. In the deep learning approach, features are not hand-crafted and the model \n",
      "discovers useful feature representations from the data automatically. This does not eliminate the \n",
      "need for hand-tuning; for example, varying numbers of layers and layer sizes can provide different \n",
      "degrees of abstraction.[8][2]\n",
      "\n",
      "The word \"deep\" in \"deep learning\" refers to the number of layers through which the data is \n",
      "transformed. More precisely, deep learning systems have a substantial credit assignment path (CAP) \n",
      "depth. The CAP is the chain of transformations from input to output. CAPs describe potentially \n",
      "causal connections between input and output. For a feedforward neural network, the depth of the \n",
      "CAPs is that of the network and is the number of hidden layers plus one (as the output layer is \n",
      "also parameterized). For recurrent neural networks, in which a signal may propagate through a layer \n",
      "more than once, the CAP depth is potentially unlimited.[9] No universally agreed-upon threshold of \n",
      "depth divides shallow learning from deep learning, but most researchers agree that deep learning \n",
      "involves CAP depth higher than two.\n",
      "You are an expert MCQ maker. Given the above text, it is your job to create a quiz  of 5 multiple choice questions for Deep Learning students in simple tone. \n",
      "Make sure the questions are not repeated and check all the questions to be conforming the text as well.\n",
      "Make sure to format your response like  RESPONSE_JSON below  and use it as a guide. Ensure to make 5 MCQs\n",
      "### RESPONSE_JSON\n",
      "{\"1\": {\"mcq\": \"multiple choice question\", \"options\": {\"a\": \"choice here\", \"b\": \"choice here\", \"c\": \"choice here\", \"d\": \"choice here\"}, \"correct\": \"correct answer\"}, \"2\": {\"mcq\": \"multiple choice question\", \"options\": {\"a\": \"choice here\", \"b\": \"choice here\", \"c\": \"choice here\", \"d\": \"choice here\"}, \"correct\": \"correct answer\"}, \"3\": {\"mcq\": \"multiple choice question\", \"options\": {\"a\": \"choice here\", \"b\": \"choice here\", \"c\": \"choice here\", \"d\": \"choice here\"}, \"correct\": \"correct answer\"}}\n",
      "\n",
      "\u001b[0m\n"
     ]
    },
    {
     "name": "stderr",
     "output_type": "stream",
     "text": [
      "/tmp/ipykernel_51333/3560272253.py:6: LangChainDeprecationWarning: The method `Chain.__call__` was deprecated in langchain 0.1.0 and will be removed in 1.0. Use :meth:`~invoke` instead.\n",
      "  response = generate_evaluate_chain(\n"
     ]
    },
    {
     "name": "stdout",
     "output_type": "stream",
     "text": [
      "\n",
      "\u001b[1m> Finished chain.\u001b[0m\n",
      "\n",
      "\n",
      "\u001b[1m> Entering new LLMChain chain...\u001b[0m\n",
      "Prompt after formatting:\n",
      "\u001b[32;1m\u001b[1;3m\n",
      "You are an expert english grammarian and writer. Given a Multiple Choice Quiz for Deep Learning students.You need to evaluate the complexity of the question and give a complete analysis of the quiz. Only use at max 50 words for complexity analysis. \n",
      "if the quiz is not at per with the cognitive and analytical abilities of the students,update the quiz questions which needs to be changed and change the tone such that it perfectly fits the student abilities\n",
      "Quiz_MCQs:\n",
      "### RESPONSE_JSON\n",
      "{\"1\": {\"mcq\": \"What is the fundamental characteristic of deep learning algorithms?\", \"options\": {\"a\": \"They use a single layer to transform input data.\", \"b\": \"They rely on hand-crafted feature engineering.\", \"c\": \"They employ a hierarchy of layers to create abstract representations.\", \"d\": \"They are only suitable for image recognition tasks.\"}, \"correct\": \"c\"}, \"2\": {\"mcq\": \"In the context of deep learning, what does the term \\\"deep\\\" refer to?\", \"options\": {\"a\": \"The complexity of the data being processed.\", \"b\": \"The number of hidden layers in the network.\", \"c\": \"The amount of training data used.\", \"d\": \"The computational power required for training.\"}, \"correct\": \"b\"}, \"3\": {\"mcq\": \"How does deep learning differ from traditional machine learning in terms of feature engineering?\", \"options\": {\"a\": \"Deep learning requires extensive hand-crafted feature engineering.\", \"b\": \"Deep learning models automatically learn features from the data.\", \"c\": \"Deep learning uses pre-defined features for all tasks.\", \"d\": \"Deep learning does not involve feature engineering at all.\"}, \"correct\": \"b\"}, \"4\": {\"mcq\": \"Which of the following is NOT a common deep learning model architecture?\", \"options\": {\"a\": \"Convolutional Neural Networks (CNNs)\", \"b\": \"Transformers\", \"c\": \"Support Vector Machines (SVMs)\", \"d\": \"Deep Belief Networks (DBNs)\"}, \"correct\": \"c\"}, \"5\": {\"mcq\": \"What is the Credit Assignment Path (CAP) depth in a deep learning model?\", \"options\": {\"a\": \"The number of input nodes in the network.\", \"b\": \"The number of output nodes in the network.\", \"c\": \"The number of hidden layers plus one.\", \"d\": \"The number of training epochs.\"}, \"correct\": \"c\"}\n",
      "} \n",
      "\n",
      "\n",
      "Check from an expert English Writer of the above quiz:\n",
      "\u001b[0m\n",
      "\n",
      "\u001b[1m> Finished chain.\u001b[0m\n",
      "\n",
      "\u001b[1m> Finished chain.\u001b[0m\n"
     ]
    }
   ],
   "source": [
    "%time\n",
    "from langchain_community.callbacks.manager import get_openai_callback\n",
    "\n",
    "# How to setup Token Usage Tracking in LangChain\n",
    "with get_openai_callback() as cb:\n",
    "    response = generate_evaluate_chain(\n",
    "        {\n",
    "            \"text\": TEXT,\n",
    "            \"number\": NUMBER,\n",
    "            \"subject\": SUBJECT,\n",
    "            \"tone\": TONE,\n",
    "            \"response_json\": json.dumps(RESPONSE_JSON)\n",
    "        }\n",
    "    )"
   ]
  },
  {
   "cell_type": "code",
   "execution_count": 23,
   "metadata": {},
   "outputs": [
    {
     "name": "stdout",
     "output_type": "stream",
     "text": [
      "Total Tokens: 1946\n",
      "Prompt Tokens: 1258\n",
      "Completion Tokens: 688\n",
      "Total Cost: 0.0\n"
     ]
    }
   ],
   "source": [
    "print(f\"Total Tokens: {cb.total_tokens}\")\n",
    "print(f\"Prompt Tokens: {cb.prompt_tokens}\")\n",
    "print(f\"Completion Tokens: {cb.completion_tokens}\")\n",
    "print(f\"Total Cost: {cb.total_cost}\")"
   ]
  },
  {
   "cell_type": "code",
   "execution_count": 24,
   "metadata": {},
   "outputs": [
    {
     "data": {
      "text/plain": [
       "{'text': 'Most modern deep learning models are based on multi-layered neural networks such as \\nconvolutional neural networks and transformers, although they can also include propositional \\nformulas or latent variables organized layer-wise in deep generative models such as the nodes in \\ndeep belief networks and deep Boltzmann machines.[7]\\n\\nFundamentally, deep learning refers to a class of machine learning algorithms in which a hierarchy \\nof layers is used to transform input data into a slightly more abstract and composite \\nrepresentation. For example, in an image recognition model, the raw input may be an image \\n(represented as a tensor of pixels). The first representational layer may attempt to identify basic \\nshapes such as lines and circles, the second layer may compose and encode arrangements of edges, \\nthe third layer may encode a nose and eyes, and the fourth layer may recognize that the image \\ncontains a face.\\n\\nImportantly, a deep learning process can learn which features to optimally place at which level on \\nits own. Prior to deep learning, machine learning techniques often involved hand-crafted feature \\nengineering to transform the data into a more suitable representation for a classification \\nalgorithm to operate on. In the deep learning approach, features are not hand-crafted and the model \\ndiscovers useful feature representations from the data automatically. This does not eliminate the \\nneed for hand-tuning; for example, varying numbers of layers and layer sizes can provide different \\ndegrees of abstraction.[8][2]\\n\\nThe word \"deep\" in \"deep learning\" refers to the number of layers through which the data is \\ntransformed. More precisely, deep learning systems have a substantial credit assignment path (CAP) \\ndepth. The CAP is the chain of transformations from input to output. CAPs describe potentially \\ncausal connections between input and output. For a feedforward neural network, the depth of the \\nCAPs is that of the network and is the number of hidden layers plus one (as the output layer is \\nalso parameterized). For recurrent neural networks, in which a signal may propagate through a layer \\nmore than once, the CAP depth is potentially unlimited.[9] No universally agreed-upon threshold of \\ndepth divides shallow learning from deep learning, but most researchers agree that deep learning \\ninvolves CAP depth higher than two.',\n",
       " 'number': 5,\n",
       " 'subject': 'Deep Learning',\n",
       " 'tone': 'simple',\n",
       " 'response_json': '{\"1\": {\"mcq\": \"multiple choice question\", \"options\": {\"a\": \"choice here\", \"b\": \"choice here\", \"c\": \"choice here\", \"d\": \"choice here\"}, \"correct\": \"correct answer\"}, \"2\": {\"mcq\": \"multiple choice question\", \"options\": {\"a\": \"choice here\", \"b\": \"choice here\", \"c\": \"choice here\", \"d\": \"choice here\"}, \"correct\": \"correct answer\"}, \"3\": {\"mcq\": \"multiple choice question\", \"options\": {\"a\": \"choice here\", \"b\": \"choice here\", \"c\": \"choice here\", \"d\": \"choice here\"}, \"correct\": \"correct answer\"}}',\n",
       " 'quiz': '### RESPONSE_JSON\\n{\"1\": {\"mcq\": \"What is the fundamental characteristic of deep learning algorithms?\", \"options\": {\"a\": \"They use a single layer to transform input data.\", \"b\": \"They rely on hand-crafted feature engineering.\", \"c\": \"They employ a hierarchy of layers to create abstract representations.\", \"d\": \"They are only suitable for image recognition tasks.\"}, \"correct\": \"c\"}, \"2\": {\"mcq\": \"In the context of deep learning, what does the term \\\\\"deep\\\\\" refer to?\", \"options\": {\"a\": \"The complexity of the data being processed.\", \"b\": \"The number of hidden layers in the network.\", \"c\": \"The amount of training data used.\", \"d\": \"The computational power required for training.\"}, \"correct\": \"b\"}, \"3\": {\"mcq\": \"How does deep learning differ from traditional machine learning in terms of feature engineering?\", \"options\": {\"a\": \"Deep learning requires extensive hand-crafted feature engineering.\", \"b\": \"Deep learning models automatically learn features from the data.\", \"c\": \"Deep learning uses pre-defined features for all tasks.\", \"d\": \"Deep learning does not involve feature engineering at all.\"}, \"correct\": \"b\"}, \"4\": {\"mcq\": \"Which of the following is NOT a common deep learning model architecture?\", \"options\": {\"a\": \"Convolutional Neural Networks (CNNs)\", \"b\": \"Transformers\", \"c\": \"Support Vector Machines (SVMs)\", \"d\": \"Deep Belief Networks (DBNs)\"}, \"correct\": \"c\"}, \"5\": {\"mcq\": \"What is the Credit Assignment Path (CAP) depth in a deep learning model?\", \"options\": {\"a\": \"The number of input nodes in the network.\", \"b\": \"The number of output nodes in the network.\", \"c\": \"The number of hidden layers plus one.\", \"d\": \"The number of training epochs.\"}, \"correct\": \"c\"}\\n} \\n',\n",
       " 'review': '## Complexity Analysis:\\n\\nThe quiz questions are generally well-written and appropriate for introductory deep learning students. The questions are clear, concise, and cover fundamental concepts. However, some questions could be slightly more challenging to ensure a deeper understanding.\\n\\n## Quiz Analysis:\\n\\n**Question 1:**  Good introductory question.\\n\\n**Question 2:**  Clear and straightforward.\\n\\n**Question 3:**  Excellent question highlighting the key difference between deep learning and traditional machine learning.\\n\\n**Question 4:**  Good for testing knowledge of common deep learning architectures.\\n\\n**Question 5:**  This question is slightly more challenging and requires a deeper understanding of model architecture. It could be rephrased for clarity.\\n\\n## Suggested Updates:\\n\\n**Question 5:**  Rephrase the question to be more accessible. For example:\\n\\n**\"What does the term \\'Credit Assignment Path (CAP) depth\\' refer to in a deep learning model?\"**\\n\\n**Options:**\\n\\n**a) The number of connections between neurons.**\\n**b) The number of layers in the network.**\\n**c) The complexity of the learning algorithm.**\\n**d) The amount of data required for training.**\\n\\n**Correct:** b)\\n\\n**Tone:** The tone of the quiz is appropriate for students. It is clear, concise, and informative. \\n'}"
      ]
     },
     "execution_count": 24,
     "metadata": {},
     "output_type": "execute_result"
    }
   ],
   "source": [
    "response"
   ]
  },
  {
   "cell_type": "code",
   "execution_count": 25,
   "metadata": {},
   "outputs": [],
   "source": [
    "quiz = response.get(\"quiz\")\n",
    "quiz = re.search(r'\\{.*\\}', quiz, re.DOTALL).group(0)"
   ]
  },
  {
   "cell_type": "code",
   "execution_count": 26,
   "metadata": {},
   "outputs": [],
   "source": [
    "quiz = json.loads(quiz)"
   ]
  },
  {
   "cell_type": "code",
   "execution_count": 27,
   "metadata": {},
   "outputs": [
    {
     "data": {
      "text/plain": [
       "{'1': {'mcq': 'What is the fundamental characteristic of deep learning algorithms?',\n",
       "  'options': {'a': 'They use a single layer to transform input data.',\n",
       "   'b': 'They rely on hand-crafted feature engineering.',\n",
       "   'c': 'They employ a hierarchy of layers to create abstract representations.',\n",
       "   'd': 'They are only suitable for image recognition tasks.'},\n",
       "  'correct': 'c'},\n",
       " '2': {'mcq': 'In the context of deep learning, what does the term \"deep\" refer to?',\n",
       "  'options': {'a': 'The complexity of the data being processed.',\n",
       "   'b': 'The number of hidden layers in the network.',\n",
       "   'c': 'The amount of training data used.',\n",
       "   'd': 'The computational power required for training.'},\n",
       "  'correct': 'b'},\n",
       " '3': {'mcq': 'How does deep learning differ from traditional machine learning in terms of feature engineering?',\n",
       "  'options': {'a': 'Deep learning requires extensive hand-crafted feature engineering.',\n",
       "   'b': 'Deep learning models automatically learn features from the data.',\n",
       "   'c': 'Deep learning uses pre-defined features for all tasks.',\n",
       "   'd': 'Deep learning does not involve feature engineering at all.'},\n",
       "  'correct': 'b'},\n",
       " '4': {'mcq': 'Which of the following is NOT a common deep learning model architecture?',\n",
       "  'options': {'a': 'Convolutional Neural Networks (CNNs)',\n",
       "   'b': 'Transformers',\n",
       "   'c': 'Support Vector Machines (SVMs)',\n",
       "   'd': 'Deep Belief Networks (DBNs)'},\n",
       "  'correct': 'c'},\n",
       " '5': {'mcq': 'What is the Credit Assignment Path (CAP) depth in a deep learning model?',\n",
       "  'options': {'a': 'The number of input nodes in the network.',\n",
       "   'b': 'The number of output nodes in the network.',\n",
       "   'c': 'The number of hidden layers plus one.',\n",
       "   'd': 'The number of training epochs.'},\n",
       "  'correct': 'c'}}"
      ]
     },
     "execution_count": 27,
     "metadata": {},
     "output_type": "execute_result"
    }
   ],
   "source": [
    "quiz"
   ]
  },
  {
   "cell_type": "code",
   "execution_count": 28,
   "metadata": {},
   "outputs": [],
   "source": [
    "quiz_table_data = []\n",
    "for key, value in quiz.items():\n",
    "    mcq = value[\"mcq\"]\n",
    "    # print(mcq)\n",
    "    options = \" | \".join(\n",
    "        [\n",
    "            f\"{option}: {option_value}\"\n",
    "            for option, option_value in value[\"options\"].items()\n",
    "        ]\n",
    "    )\n",
    "    correct = value[\"correct\"]\n",
    "    quiz_table_data.append({\"MCQ\": mcq, \"Choice\": options, \"Correct\": correct})"
   ]
  },
  {
   "cell_type": "code",
   "execution_count": 29,
   "metadata": {},
   "outputs": [
    {
     "data": {
      "text/plain": [
       "[{'MCQ': 'What is the fundamental characteristic of deep learning algorithms?',\n",
       "  'Choice': 'a: They use a single layer to transform input data. | b: They rely on hand-crafted feature engineering. | c: They employ a hierarchy of layers to create abstract representations. | d: They are only suitable for image recognition tasks.',\n",
       "  'Correct': 'c'},\n",
       " {'MCQ': 'In the context of deep learning, what does the term \"deep\" refer to?',\n",
       "  'Choice': 'a: The complexity of the data being processed. | b: The number of hidden layers in the network. | c: The amount of training data used. | d: The computational power required for training.',\n",
       "  'Correct': 'b'},\n",
       " {'MCQ': 'How does deep learning differ from traditional machine learning in terms of feature engineering?',\n",
       "  'Choice': 'a: Deep learning requires extensive hand-crafted feature engineering. | b: Deep learning models automatically learn features from the data. | c: Deep learning uses pre-defined features for all tasks. | d: Deep learning does not involve feature engineering at all.',\n",
       "  'Correct': 'b'},\n",
       " {'MCQ': 'Which of the following is NOT a common deep learning model architecture?',\n",
       "  'Choice': 'a: Convolutional Neural Networks (CNNs) | b: Transformers | c: Support Vector Machines (SVMs) | d: Deep Belief Networks (DBNs)',\n",
       "  'Correct': 'c'},\n",
       " {'MCQ': 'What is the Credit Assignment Path (CAP) depth in a deep learning model?',\n",
       "  'Choice': 'a: The number of input nodes in the network. | b: The number of output nodes in the network. | c: The number of hidden layers plus one. | d: The number of training epochs.',\n",
       "  'Correct': 'c'}]"
      ]
     },
     "execution_count": 29,
     "metadata": {},
     "output_type": "execute_result"
    }
   ],
   "source": [
    "quiz_table_data"
   ]
  },
  {
   "cell_type": "code",
   "execution_count": 30,
   "metadata": {},
   "outputs": [],
   "source": [
    "quiz_df = pd.DataFrame(quiz_table_data)"
   ]
  },
  {
   "cell_type": "code",
   "execution_count": 31,
   "metadata": {},
   "outputs": [
    {
     "data": {
      "text/html": [
       "<div>\n",
       "<style scoped>\n",
       "    .dataframe tbody tr th:only-of-type {\n",
       "        vertical-align: middle;\n",
       "    }\n",
       "\n",
       "    .dataframe tbody tr th {\n",
       "        vertical-align: top;\n",
       "    }\n",
       "\n",
       "    .dataframe thead th {\n",
       "        text-align: right;\n",
       "    }\n",
       "</style>\n",
       "<table border=\"1\" class=\"dataframe\">\n",
       "  <thead>\n",
       "    <tr style=\"text-align: right;\">\n",
       "      <th></th>\n",
       "      <th>MCQ</th>\n",
       "      <th>Choice</th>\n",
       "      <th>Correct</th>\n",
       "    </tr>\n",
       "  </thead>\n",
       "  <tbody>\n",
       "    <tr>\n",
       "      <th>0</th>\n",
       "      <td>What is the fundamental characteristic of deep...</td>\n",
       "      <td>a: They use a single layer to transform input ...</td>\n",
       "      <td>c</td>\n",
       "    </tr>\n",
       "    <tr>\n",
       "      <th>1</th>\n",
       "      <td>In the context of deep learning, what does the...</td>\n",
       "      <td>a: The complexity of the data being processed....</td>\n",
       "      <td>b</td>\n",
       "    </tr>\n",
       "    <tr>\n",
       "      <th>2</th>\n",
       "      <td>How does deep learning differ from traditional...</td>\n",
       "      <td>a: Deep learning requires extensive hand-craft...</td>\n",
       "      <td>b</td>\n",
       "    </tr>\n",
       "    <tr>\n",
       "      <th>3</th>\n",
       "      <td>Which of the following is NOT a common deep le...</td>\n",
       "      <td>a: Convolutional Neural Networks (CNNs) | b: T...</td>\n",
       "      <td>c</td>\n",
       "    </tr>\n",
       "    <tr>\n",
       "      <th>4</th>\n",
       "      <td>What is the Credit Assignment Path (CAP) depth...</td>\n",
       "      <td>a: The number of input nodes in the network. |...</td>\n",
       "      <td>c</td>\n",
       "    </tr>\n",
       "  </tbody>\n",
       "</table>\n",
       "</div>"
      ],
      "text/plain": [
       "                                                 MCQ  \\\n",
       "0  What is the fundamental characteristic of deep...   \n",
       "1  In the context of deep learning, what does the...   \n",
       "2  How does deep learning differ from traditional...   \n",
       "3  Which of the following is NOT a common deep le...   \n",
       "4  What is the Credit Assignment Path (CAP) depth...   \n",
       "\n",
       "                                              Choice Correct  \n",
       "0  a: They use a single layer to transform input ...       c  \n",
       "1  a: The complexity of the data being processed....       b  \n",
       "2  a: Deep learning requires extensive hand-craft...       b  \n",
       "3  a: Convolutional Neural Networks (CNNs) | b: T...       c  \n",
       "4  a: The number of input nodes in the network. |...       c  "
      ]
     },
     "execution_count": 31,
     "metadata": {},
     "output_type": "execute_result"
    }
   ],
   "source": [
    "quiz_df"
   ]
  },
  {
   "cell_type": "code",
   "execution_count": 33,
   "metadata": {},
   "outputs": [],
   "source": [
    "quiz_df.to_csv(f\"{SUBJECT}_Quiz.csv\", index=False)"
   ]
  },
  {
   "cell_type": "code",
   "execution_count": null,
   "metadata": {},
   "outputs": [],
   "source": []
  }
 ],
 "metadata": {
  "kernelspec": {
   "display_name": ".venv",
   "language": "python",
   "name": "python3"
  },
  "language_info": {
   "codemirror_mode": {
    "name": "ipython",
    "version": 3
   },
   "file_extension": ".py",
   "mimetype": "text/x-python",
   "name": "python",
   "nbconvert_exporter": "python",
   "pygments_lexer": "ipython3",
   "version": "3.10.12"
  }
 },
 "nbformat": 4,
 "nbformat_minor": 2
}
